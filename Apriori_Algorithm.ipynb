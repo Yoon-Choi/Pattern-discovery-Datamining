{
 "cells": [
  {
   "cell_type": "code",
   "execution_count": null,
   "metadata": {},
   "outputs": [],
   "source": [
    "import pandas as pd\n",
    "import numpy as np\n",
    "from mlxtend.preprocessing import TransactionEncoder\n",
    "from mlxtend.frequent_patterns import apriori\n",
    "\n",
    "#reshape text file data \n",
    "def Convert(string): \n",
    "    li = list(string.split(\";\")) \n",
    "    return li \n",
    "  \n",
    "\n",
    "with open('categories.txt', 'r') as f:\n",
    "    dataset = []\n",
    "    list_file = []\n",
    "    \n",
    "    for line in f: #line data type  => str (not int)\n",
    "        line = line.rstrip(\"\\n\")     #  remove \\n from string \n",
    "        list_file.append(line)#  type(list_file[0])  => str \n",
    "        \n",
    "    for i in range(len(list_file)):    \n",
    "        dataset.append(Convert(list_file[i]))  ",
    "\n",
    "        \n",
    "# apriori algorithm        \n",
    "te = TransactionEncoder()\n",
    "te_ary = te.fit(dataset).transform(dataset)\n",
    "df = pd.DataFrame(te_ary, columns=te.columns_)\n",
    "\n",
    "frequent_itemsets = apriori(df, min_support=0.01 use_colnames=True)\n",
    "\n",
    "frequent_itemsets['support']  = frequent_itemsets['support']*len(dataset) \n",
    "\n",
    "# csv output \n",
    "frequent_itemsets.to_csv(r'C:\\Users\\yoonjay\\Documents\\patterns.csv', index = False) \n"
   ]
  }
 ],
 "metadata": {
  "kernelspec": {
   "display_name": "Python [conda env:tensorflow]",
   "language": "python",
   "name": "conda-env-tensorflow-py"
  },
  "language_info": {
   "codemirror_mode": {
    "name": "ipython",
    "version": 3
   },
   "file_extension": ".py",
   "mimetype": "text/x-python",
   "name": "python",
   "nbconvert_exporter": "python",
   "pygments_lexer": "ipython3",
   "version": "3.5.4"
  }
 },
 "nbformat": 4,
 "nbformat_minor": 4
}
